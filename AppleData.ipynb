{
 "cells": [
  {
   "cell_type": "code",
   "execution_count": null,
   "id": "656c49f0",
   "metadata": {},
   "outputs": [],
   "source": [
    "import pandas as pd\n",
    "\n",
    "from parse import parse\n",
    "from datetime import datetime\n",
    "\n",
    "from random import randint, uniform\n",
    "\n",
    "import os\n",
    "import gpxpy"
   ]
  },
  {
   "cell_type": "code",
   "execution_count": null,
   "id": "10243679",
   "metadata": {},
   "outputs": [],
   "source": [
    "df = pd.read_xml('export.xml')"
   ]
  },
  {
   "cell_type": "code",
   "execution_count": null,
   "id": "8178a997",
   "metadata": {},
   "outputs": [],
   "source": [
    "parsed = df.drop(columns=['HKCharacteristicTypeIdentifierDateOfBirth', 'HKCharacteristicTypeIdentifierBiologicalSex',\n",
    "                'HKCharacteristicTypeIdentifierBloodType', 'HKCharacteristicTypeIdentifierFitzpatrickSkinType',\n",
    "                'HKCharacteristicTypeIdentifierCardioFitnessMedicationsUse', 'HeartRateVariabilityMetadataList', \n",
    "                'MetadataEntry', 'totalDistanceUnit', 'durationUnit', 'totalEnergyBurnedUnit', 'WorkoutEvent', \n",
    "                'WorkoutRoute', 'activeEnergyBurnedGoal', 'activeEnergyBurnedUnit', 'appleMoveTime', \n",
    "                'appleMoveTimeGoal', 'appleExerciseTimeGoal', 'appleStandHoursGoal'])"
   ]
  },
  {
   "cell_type": "code",
   "execution_count": null,
   "id": "8ab9c124",
   "metadata": {},
   "outputs": [],
   "source": [
    "# duration in minutes\n",
    "# distance in  miles\n",
    "# energy burned in calories\n",
    "parsed.columns"
   ]
  },
  {
   "cell_type": "code",
   "execution_count": null,
   "id": "90cca061",
   "metadata": {},
   "outputs": [],
   "source": [
    "parsed['type'].unique()"
   ]
  },
  {
   "cell_type": "code",
   "execution_count": null,
   "id": "f06764ec",
   "metadata": {},
   "outputs": [],
   "source": [
    "parsed.head(10)"
   ]
  },
  {
   "cell_type": "code",
   "execution_count": null,
   "id": "179f8798",
   "metadata": {},
   "outputs": [],
   "source": [
    "def fmt_hr_date(date):\n",
    "    return str(datetime.strptime(date, '%Y-%m-%d %H:%M:%S %z').replace(second=0, minute=0, hour=0, tzinfo=None))[:-9]\n",
    "\n",
    "resting_hr = parsed[parsed['type'] == 'HKQuantityTypeIdentifierRestingHeartRate']\n",
    "resting_hr['dateComponents'] = resting_hr['creationDate'].apply(fmt_hr_date)\n",
    "resting_hr = resting_hr[['value', 'dateComponents']]\n",
    "resting_hr.columns = ['hr', 'dateComponents']\n",
    "resting_hr"
   ]
  },
  {
   "cell_type": "code",
   "execution_count": null,
   "id": "aee2a36e",
   "metadata": {},
   "outputs": [],
   "source": [
    "def fmt_hr_date(date):\n",
    "    return str(datetime.strptime(date, '%Y-%m-%d %H:%M:%S %z').replace(second=0, minute=0, hour=0, tzinfo=None))[:-9]\n",
    "\n",
    "# put your own source name\n",
    "distance = parsed[(parsed['type'] == 'HKQuantityTypeIdentifierDistanceWalkingRunning') & (parsed['sourceName'] != 'Arun’s iPhone')]\n",
    "distance['dateComponents'] = distance['creationDate'].apply(fmt_hr_date)\n",
    "distance['value'] = distance['value'].apply(lambda x: float(x))\n",
    "distance = distance.groupby(['dateComponents'], as_index=False).agg({'value': 'sum'})\n",
    "distance.columns = ['dateComponents', 'distance']\n",
    "distance"
   ]
  },
  {
   "cell_type": "code",
   "execution_count": null,
   "id": "034f0f76",
   "metadata": {},
   "outputs": [],
   "source": [
    "hr_dist = resting_hr.merge(distance, on='dateComponents')\n",
    "hr_dist"
   ]
  },
  {
   "cell_type": "code",
   "execution_count": null,
   "id": "8f291bc2",
   "metadata": {},
   "outputs": [],
   "source": [
    "goals = parsed[parsed['dateComponents'].notnull()]\n",
    "goals = goals[['dateComponents', 'activeEnergyBurned', 'appleExerciseTime', 'appleStandHours']]\n",
    "goals = goals.merge(hr_dist, on='dateComponents', how='left')\n",
    "goals"
   ]
  },
  {
   "cell_type": "code",
   "execution_count": null,
   "id": "9340ff81",
   "metadata": {},
   "outputs": [],
   "source": [
    "def fmt_wkt_date(date):\n",
    "    return datetime.strptime(date, '%Y-%m-%d %H:%M:%S %z').replace(second=0, tzinfo=None)\n",
    "\n",
    "workouts = parsed[parsed['workoutActivityType'].notnull()]\n",
    "workouts = workouts[['creationDate', 'startDate', 'workoutActivityType', 'duration', 'totalDistance', 'totalEnergyBurned']]\n",
    "workouts['fmtDate'] = workouts['creationDate'].apply(fmt_wkt_date)\n",
    "workouts.to_csv('workouts.csv')\n",
    "workouts"
   ]
  },
  {
   "cell_type": "code",
   "execution_count": null,
   "id": "93984105",
   "metadata": {},
   "outputs": [],
   "source": [
    "points = []\n",
    "# put your own path to workout-routes\n",
    "path = \"/Users/arundhingra/Downloads/apple_health_export/workout-routes\"\n",
    "dir_list = os.listdir(path)\n",
    "\n",
    "def fmt_route_date(route_date):\n",
    "    res = parse('{:d}-{:d}-{:d} {:d}:{:d}{:l}', route_date)\n",
    "    route_date = \"{}-{:02d}-{:02d} {:02d}:{:02d}{}\".format(res[0], res[1], \n",
    "                                                     res[2], res[3], \n",
    "                                                     res[4], res[5])\n",
    "    return datetime.strptime(route_date, '%Y-%m-%d %I:%M%p')\n",
    "\n",
    "for path in dir_list:\n",
    "    gpx = gpxpy.parse(open(\"workout-routes/{}\".format(path)))\n",
    "    first_point = gpx.tracks[0].segments[0].points[0]\n",
    "    date = gpx.tracks[0].name[6:]\n",
    "    points.append((fmt_route_date(date), first_point.latitude, first_point.longitude))\n",
    "\n",
    "    \n",
    "points"
   ]
  },
  {
   "cell_type": "code",
   "execution_count": null,
   "id": "3cae614d",
   "metadata": {},
   "outputs": [],
   "source": [
    "from datetime import timedelta\n",
    "dates = list(map(lambda x: x[0], points))\n",
    "matched = []\n",
    "margin = timedelta(hours = 2)\n",
    "new_workout_dates = []\n",
    "for i in workouts['fmtDate']:\n",
    "    found = [x for x in dates if x - margin < i < x + margin]\n",
    "    if found:\n",
    "        new_workout_dates.append(pd.Timestamp(found[0]))\n",
    "        dates.remove(found[0])\n",
    "    else:\n",
    "        new_workout_dates.append(i)\n",
    "\n",
    "workouts['fmtDate'] = new_workout_dates"
   ]
  },
  {
   "cell_type": "code",
   "execution_count": null,
   "id": "b25cdfe6",
   "metadata": {},
   "outputs": [],
   "source": [
    "workouts['onlyDate'] = workouts['fmtDate'].apply(lambda x: x.replace(second=0, minute=0, hour=0))"
   ]
  },
  {
   "cell_type": "code",
   "execution_count": null,
   "id": "dabab6d3",
   "metadata": {},
   "outputs": [],
   "source": [
    "# i had to hardcode non-cardio related coordinates for my project\n",
    "# until Apple allows use to use location data for normal workouts, this is what we're stuck with\n",
    "varsity = (38.99089726384877, -76.9343323725462)\n",
    "deep_creek = (39.514183, -79.309469)\n",
    "rehoboth = (38.733435, -75.078909)\n",
    "echo = (38.919791, -76.972322)\n",
    "room = (38.99197562859428, -76.93441835548659)\n",
    "outside_varsity = (38.99295439860751, -76.93546173743849)\n",
    "home = (38.922336476725015, -77.37557836807055)\n",
    "\n",
    "together = []\n",
    "loc = [\n",
    "    varsity,varsity,varsity,varsity,varsity,varsity,\n",
    "    varsity,varsity,rehoboth,varsity,varsity,varsity,\n",
    "    varsity,varsity,varsity,varsity,varsity,varsity,\n",
    "    varsity,varsity,varsity,varsity,varsity,varsity,\n",
    "    varsity,varsity,varsity,varsity,varsity,varsity,\n",
    "    varsity,deep_creek,deep_creek,deep_creek,varsity,varsity,\n",
    "    varsity,varsity,varsity,varsity,room,varsity,\n",
    "    varsity,echo,echo,room,varsity,varsity,\n",
    "    varsity,varsity,varsity,varsity,varsity,varsity,\n",
    "    varsity,room,varsity,varsity,varsity,varsity,\n",
    "    varsity,varsity,varsity,varsity,varsity,varsity,\n",
    "    varsity,varsity,home,varsity,varsity,varsity,\n",
    "    home,home,home,home,home,home,\n",
    "    varsity,home,home,home,home,home,\n",
    "    home,home,home,home,varsity,varsity,\n",
    "    varsity,varsity,room,room,outside_varsity,room,\n",
    "    room,varsity,room,room,room,varsity,\n",
    "    varsity,room,varsity,varsity,varsity,room,\n",
    "    outside_varsity,varsity,room\n",
    "]"
   ]
  },
  {
   "cell_type": "code",
   "execution_count": null,
   "id": "f0da8789",
   "metadata": {},
   "outputs": [],
   "source": [
    "tracked = pd.DataFrame(points, columns=['fmtDate', 'latitude', 'longitude'])\n",
    "joined = workouts.merge(tracked, on='fmtDate', how='left')\n",
    "joined"
   ]
  },
  {
   "cell_type": "code",
   "execution_count": null,
   "id": "884fd6a2",
   "metadata": {},
   "outputs": [],
   "source": [
    "from math import isnan\n",
    "\n",
    "longs = joined['longitude']\n",
    "lats = joined['latitude']\n",
    "date = joined['fmtDate']\n",
    "\n",
    "i = 0\n",
    "li = 0\n",
    "while i < len(longs):\n",
    "    if isnan(longs[i]):\n",
    "        lats[i] = loc[li][0]\n",
    "        longs[i] = loc[li][1]\n",
    "        li += 1\n",
    "    i += 1\n",
    "        \n",
    "joined['longitude'] = longs\n",
    "joined['latitude'] = lats\n",
    "joined['workoutActivityType'] = joined['workoutActivityType'].apply(lambda x: x.replace('HKWorkoutActivityType', ''))"
   ]
  },
  {
   "cell_type": "code",
   "execution_count": null,
   "id": "61b02c0d",
   "metadata": {},
   "outputs": [],
   "source": [
    "import random\n",
    "\n",
    "def jitter(coords):\n",
    "    new_lat = uniform(0,.01)\n",
    "    new_long = uniform(0,.01)\n",
    "        \n",
    "    if (random.randint(1, 50) % 2 == 0):\n",
    "        new_lat += coords[0]\n",
    "    else:\n",
    "        new_lat = coords[0] - new_lat\n",
    "        \n",
    "    if (random.randint(1, 50) % 2 == 0):\n",
    "        new_long += coords[1]\n",
    "    else:\n",
    "        new_long = coords[1] - new_long\n",
    "        \n",
    "    return (new_lat, new_long)\n",
    "\n",
    "zipped = zip(joined['latitude'], joined['longitude'])\n",
    "jittered = list(map(jitter, zipped))\n",
    "joined['latitude'] = list(map(lambda x: x[0], jittered))\n",
    "joined['longitude'] = list(map(lambda x: x[1], jittered))\n",
    "joined"
   ]
  },
  {
   "cell_type": "code",
   "execution_count": null,
   "id": "d530be4c",
   "metadata": {},
   "outputs": [],
   "source": [
    "joined.to_csv('workouts.csv')\n",
    "goals.to_csv('goals.csv')"
   ]
  },
  {
   "cell_type": "code",
   "execution_count": null,
   "id": "5d5d889c",
   "metadata": {},
   "outputs": [],
   "source": [
    "len(joined[joined['workoutActivityType'] == 'Running'])"
   ]
  }
 ],
 "metadata": {
  "kernelspec": {
   "display_name": "Python 3 (ipykernel)",
   "language": "python",
   "name": "python3"
  },
  "language_info": {
   "codemirror_mode": {
    "name": "ipython",
    "version": 3
   },
   "file_extension": ".py",
   "mimetype": "text/x-python",
   "name": "python",
   "nbconvert_exporter": "python",
   "pygments_lexer": "ipython3",
   "version": "3.9.6"
  }
 },
 "nbformat": 4,
 "nbformat_minor": 5
}
